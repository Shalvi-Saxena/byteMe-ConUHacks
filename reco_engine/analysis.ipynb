{
  "cells": [
    {
      "cell_type": "code",
      "execution_count": 1,
      "id": "eaca0b19-50d4-4e77-902c-4073fcb91035",
      "metadata": {
        "id": "eaca0b19-50d4-4e77-902c-4073fcb91035"
      },
      "outputs": [],
      "source": [
        "import pandas as pd"
      ]
    },
    {
      "cell_type": "code",
      "execution_count": 2,
      "id": "bc93d277-d9f5-4408-af1e-c7ba27a4451b",
      "metadata": {
        "id": "bc93d277-d9f5-4408-af1e-c7ba27a4451b"
      },
      "outputs": [],
      "source": [
        "dataset = pd.read_csv(\"/content/datset.csv\")"
      ]
    },
    {
      "cell_type": "code",
      "execution_count": 3,
      "id": "5472a9ac-1596-49a4-b7ea-11ed41548692",
      "metadata": {
        "colab": {
          "base_uri": "https://localhost:8080/",
          "height": 374
        },
        "id": "5472a9ac-1596-49a4-b7ea-11ed41548692",
        "outputId": "11e6862a-0506-4dac-c91b-6f10421c72af"
      },
      "outputs": [
        {
          "output_type": "execute_result",
          "data": {
            "text/plain": [
              "   Unnamed: 0                       _id                   user_id  \\\n",
              "0           0  63ccbd89ae3e5a2f6f52ef3a  63cc5580bcf3d54f64dec4a5   \n",
              "1           1  63ccbe50ae3e5a2f6f52ef3b  63cc5580bcf3d54f64dec4a5   \n",
              "2           2  63ccbeb6ae3e5a2f6f52ef3c  63cc5580bcf3d54f64dec4a5   \n",
              "3           3  63ccbf81ae3e5a2f6f52ef3d  63cc5580bcf3d54f64dec4a5   \n",
              "4           4  63ccc304ae3e5a2f6f52ef3e  63cc5580bcf3d54f64dec4a5   \n",
              "\n",
              "                category_id  amount                created_at     type  \\\n",
              "0  63cc6391bcf3d54f64dec4a8   56.50  2023-01-03T22:46:11.354Z  expense   \n",
              "1  63cc6340bcf3d54f64dec4a7    3.25  2023-01-02T22:46:11.354Z  expense   \n",
              "2  63cc6407bcf3d54f64dec4ab   14.20  2023-01-01T22:46:11.354Z  expense   \n",
              "3  63cc6340bcf3d54f64dec4a7   50.00  2023-01-05T22:46:11.354Z  expense   \n",
              "4  63cc4501bcf3d54f64dec48d   28.80  2023-01-06T22:46:11.354Z  expense   \n",
              "\n",
              "  currency  image            note  location  \n",
              "0      CAD    NaN            OPUS       NaN  \n",
              "1      CAD    NaN     Tim Hortons       NaN  \n",
              "2      CAD    NaN  Multi Vitamins       NaN  \n",
              "3      CAD    NaN   Burgundy Lion       NaN  \n",
              "4      CAD    NaN         Walmart       NaN  "
            ],
            "text/html": [
              "\n",
              "  <div id=\"df-7aacee35-36cb-4d30-a39d-ea2fd224e4ad\">\n",
              "    <div class=\"colab-df-container\">\n",
              "      <div>\n",
              "<style scoped>\n",
              "    .dataframe tbody tr th:only-of-type {\n",
              "        vertical-align: middle;\n",
              "    }\n",
              "\n",
              "    .dataframe tbody tr th {\n",
              "        vertical-align: top;\n",
              "    }\n",
              "\n",
              "    .dataframe thead th {\n",
              "        text-align: right;\n",
              "    }\n",
              "</style>\n",
              "<table border=\"1\" class=\"dataframe\">\n",
              "  <thead>\n",
              "    <tr style=\"text-align: right;\">\n",
              "      <th></th>\n",
              "      <th>Unnamed: 0</th>\n",
              "      <th>_id</th>\n",
              "      <th>user_id</th>\n",
              "      <th>category_id</th>\n",
              "      <th>amount</th>\n",
              "      <th>created_at</th>\n",
              "      <th>type</th>\n",
              "      <th>currency</th>\n",
              "      <th>image</th>\n",
              "      <th>note</th>\n",
              "      <th>location</th>\n",
              "    </tr>\n",
              "  </thead>\n",
              "  <tbody>\n",
              "    <tr>\n",
              "      <th>0</th>\n",
              "      <td>0</td>\n",
              "      <td>63ccbd89ae3e5a2f6f52ef3a</td>\n",
              "      <td>63cc5580bcf3d54f64dec4a5</td>\n",
              "      <td>63cc6391bcf3d54f64dec4a8</td>\n",
              "      <td>56.50</td>\n",
              "      <td>2023-01-03T22:46:11.354Z</td>\n",
              "      <td>expense</td>\n",
              "      <td>CAD</td>\n",
              "      <td>NaN</td>\n",
              "      <td>OPUS</td>\n",
              "      <td>NaN</td>\n",
              "    </tr>\n",
              "    <tr>\n",
              "      <th>1</th>\n",
              "      <td>1</td>\n",
              "      <td>63ccbe50ae3e5a2f6f52ef3b</td>\n",
              "      <td>63cc5580bcf3d54f64dec4a5</td>\n",
              "      <td>63cc6340bcf3d54f64dec4a7</td>\n",
              "      <td>3.25</td>\n",
              "      <td>2023-01-02T22:46:11.354Z</td>\n",
              "      <td>expense</td>\n",
              "      <td>CAD</td>\n",
              "      <td>NaN</td>\n",
              "      <td>Tim Hortons</td>\n",
              "      <td>NaN</td>\n",
              "    </tr>\n",
              "    <tr>\n",
              "      <th>2</th>\n",
              "      <td>2</td>\n",
              "      <td>63ccbeb6ae3e5a2f6f52ef3c</td>\n",
              "      <td>63cc5580bcf3d54f64dec4a5</td>\n",
              "      <td>63cc6407bcf3d54f64dec4ab</td>\n",
              "      <td>14.20</td>\n",
              "      <td>2023-01-01T22:46:11.354Z</td>\n",
              "      <td>expense</td>\n",
              "      <td>CAD</td>\n",
              "      <td>NaN</td>\n",
              "      <td>Multi Vitamins</td>\n",
              "      <td>NaN</td>\n",
              "    </tr>\n",
              "    <tr>\n",
              "      <th>3</th>\n",
              "      <td>3</td>\n",
              "      <td>63ccbf81ae3e5a2f6f52ef3d</td>\n",
              "      <td>63cc5580bcf3d54f64dec4a5</td>\n",
              "      <td>63cc6340bcf3d54f64dec4a7</td>\n",
              "      <td>50.00</td>\n",
              "      <td>2023-01-05T22:46:11.354Z</td>\n",
              "      <td>expense</td>\n",
              "      <td>CAD</td>\n",
              "      <td>NaN</td>\n",
              "      <td>Burgundy Lion</td>\n",
              "      <td>NaN</td>\n",
              "    </tr>\n",
              "    <tr>\n",
              "      <th>4</th>\n",
              "      <td>4</td>\n",
              "      <td>63ccc304ae3e5a2f6f52ef3e</td>\n",
              "      <td>63cc5580bcf3d54f64dec4a5</td>\n",
              "      <td>63cc4501bcf3d54f64dec48d</td>\n",
              "      <td>28.80</td>\n",
              "      <td>2023-01-06T22:46:11.354Z</td>\n",
              "      <td>expense</td>\n",
              "      <td>CAD</td>\n",
              "      <td>NaN</td>\n",
              "      <td>Walmart</td>\n",
              "      <td>NaN</td>\n",
              "    </tr>\n",
              "  </tbody>\n",
              "</table>\n",
              "</div>\n",
              "      <button class=\"colab-df-convert\" onclick=\"convertToInteractive('df-7aacee35-36cb-4d30-a39d-ea2fd224e4ad')\"\n",
              "              title=\"Convert this dataframe to an interactive table.\"\n",
              "              style=\"display:none;\">\n",
              "        \n",
              "  <svg xmlns=\"http://www.w3.org/2000/svg\" height=\"24px\"viewBox=\"0 0 24 24\"\n",
              "       width=\"24px\">\n",
              "    <path d=\"M0 0h24v24H0V0z\" fill=\"none\"/>\n",
              "    <path d=\"M18.56 5.44l.94 2.06.94-2.06 2.06-.94-2.06-.94-.94-2.06-.94 2.06-2.06.94zm-11 1L8.5 8.5l.94-2.06 2.06-.94-2.06-.94L8.5 2.5l-.94 2.06-2.06.94zm10 10l.94 2.06.94-2.06 2.06-.94-2.06-.94-.94-2.06-.94 2.06-2.06.94z\"/><path d=\"M17.41 7.96l-1.37-1.37c-.4-.4-.92-.59-1.43-.59-.52 0-1.04.2-1.43.59L10.3 9.45l-7.72 7.72c-.78.78-.78 2.05 0 2.83L4 21.41c.39.39.9.59 1.41.59.51 0 1.02-.2 1.41-.59l7.78-7.78 2.81-2.81c.8-.78.8-2.07 0-2.86zM5.41 20L4 18.59l7.72-7.72 1.47 1.35L5.41 20z\"/>\n",
              "  </svg>\n",
              "      </button>\n",
              "      \n",
              "  <style>\n",
              "    .colab-df-container {\n",
              "      display:flex;\n",
              "      flex-wrap:wrap;\n",
              "      gap: 12px;\n",
              "    }\n",
              "\n",
              "    .colab-df-convert {\n",
              "      background-color: #E8F0FE;\n",
              "      border: none;\n",
              "      border-radius: 50%;\n",
              "      cursor: pointer;\n",
              "      display: none;\n",
              "      fill: #1967D2;\n",
              "      height: 32px;\n",
              "      padding: 0 0 0 0;\n",
              "      width: 32px;\n",
              "    }\n",
              "\n",
              "    .colab-df-convert:hover {\n",
              "      background-color: #E2EBFA;\n",
              "      box-shadow: 0px 1px 2px rgba(60, 64, 67, 0.3), 0px 1px 3px 1px rgba(60, 64, 67, 0.15);\n",
              "      fill: #174EA6;\n",
              "    }\n",
              "\n",
              "    [theme=dark] .colab-df-convert {\n",
              "      background-color: #3B4455;\n",
              "      fill: #D2E3FC;\n",
              "    }\n",
              "\n",
              "    [theme=dark] .colab-df-convert:hover {\n",
              "      background-color: #434B5C;\n",
              "      box-shadow: 0px 1px 3px 1px rgba(0, 0, 0, 0.15);\n",
              "      filter: drop-shadow(0px 1px 2px rgba(0, 0, 0, 0.3));\n",
              "      fill: #FFFFFF;\n",
              "    }\n",
              "  </style>\n",
              "\n",
              "      <script>\n",
              "        const buttonEl =\n",
              "          document.querySelector('#df-7aacee35-36cb-4d30-a39d-ea2fd224e4ad button.colab-df-convert');\n",
              "        buttonEl.style.display =\n",
              "          google.colab.kernel.accessAllowed ? 'block' : 'none';\n",
              "\n",
              "        async function convertToInteractive(key) {\n",
              "          const element = document.querySelector('#df-7aacee35-36cb-4d30-a39d-ea2fd224e4ad');\n",
              "          const dataTable =\n",
              "            await google.colab.kernel.invokeFunction('convertToInteractive',\n",
              "                                                     [key], {});\n",
              "          if (!dataTable) return;\n",
              "\n",
              "          const docLinkHtml = 'Like what you see? Visit the ' +\n",
              "            '<a target=\"_blank\" href=https://colab.research.google.com/notebooks/data_table.ipynb>data table notebook</a>'\n",
              "            + ' to learn more about interactive tables.';\n",
              "          element.innerHTML = '';\n",
              "          dataTable['output_type'] = 'display_data';\n",
              "          await google.colab.output.renderOutput(dataTable, element);\n",
              "          const docLink = document.createElement('div');\n",
              "          docLink.innerHTML = docLinkHtml;\n",
              "          element.appendChild(docLink);\n",
              "        }\n",
              "      </script>\n",
              "    </div>\n",
              "  </div>\n",
              "  "
            ]
          },
          "metadata": {},
          "execution_count": 3
        }
      ],
      "source": [
        "dataset.head()"
      ]
    },
    {
      "cell_type": "code",
      "execution_count": 4,
      "id": "6a695b00-add4-49d1-8986-53bdeecbdb32",
      "metadata": {
        "id": "6a695b00-add4-49d1-8986-53bdeecbdb32"
      },
      "outputs": [],
      "source": [
        "cat_map = [\n",
        "  {\n",
        "    \"_id\": {\n",
        "      \"$oid\": \"63cc4501bcf3d54f64dec48d\"\n",
        "    },\n",
        "    \"name\": \"Home and groceries\"\n",
        "  },\n",
        "  {\n",
        "    \"_id\": {\n",
        "      \"$oid\": \"63cc6340bcf3d54f64dec4a7\"\n",
        "    },\n",
        "    \"name\": \"Social Life\"\n",
        "  },\n",
        "  {\n",
        "    \"_id\": {\n",
        "      \"$oid\": \"63cc6391bcf3d54f64dec4a8\"\n",
        "    },\n",
        "    \"name\": \"Travel\"\n",
        "  },\n",
        "  {\n",
        "    \"_id\": {\n",
        "      \"$oid\": \"63cc639bbcf3d54f64dec4a9\"\n",
        "    },\n",
        "    \"name\": \"Rent & Utilities\"\n",
        "  },\n",
        "  {\n",
        "    \"_id\": {\n",
        "      \"$oid\": \"63cc63f8bcf3d54f64dec4aa\"\n",
        "    },\n",
        "    \"name\": \"Subscriptions\"\n",
        "  },\n",
        "  {\n",
        "    \"_id\": {\n",
        "      \"$oid\": \"63cc6407bcf3d54f64dec4ab\"\n",
        "    },\n",
        "    \"name\": \"Health\"\n",
        "  },\n",
        "  {\n",
        "    \"_id\": {\n",
        "      \"$oid\": \"63cc6419bcf3d54f64dec4ac\"\n",
        "    },\n",
        "    \"name\": \"Apparel & Accesories\"\n",
        "  },\n",
        "  {\n",
        "    \"_id\": {\n",
        "      \"$oid\": \"63cc6436bcf3d54f64dec4ad\"\n",
        "    },\n",
        "    \"name\": \"Others\"\n",
        "  }\n",
        "]"
      ]
    },
    {
      "cell_type": "code",
      "execution_count": 5,
      "id": "cd16a6c1-1cb5-4a99-b272-8d509c069b29",
      "metadata": {
        "id": "cd16a6c1-1cb5-4a99-b272-8d509c069b29"
      },
      "outputs": [],
      "source": [
        "dataset[\"note\"].unique()\n",
        "reps = {\n",
        "    \"Tim Hortans\": \"Tim Hortons\",\n",
        "    \"TIm Hortans\": \"Tim Hortons\",\n",
        "}\n",
        "for rep in reps:\n",
        "    dataset.replace(rep, reps.get(rep), inplace=True)"
      ]
    },
    {
      "cell_type": "code",
      "execution_count": 6,
      "id": "c2455b55-f440-47e6-abab-9e52560daf86",
      "metadata": {
        "id": "c2455b55-f440-47e6-abab-9e52560daf86"
      },
      "outputs": [],
      "source": [
        "categories = {}\n",
        "for cat in cat_map:\n",
        "    categories[cat.get(\"_id\").get(\"$oid\")] = cat.get(\"name\")"
      ]
    },
    {
      "cell_type": "code",
      "execution_count": 7,
      "id": "1d8e56e9-1f4e-4931-bd34-3c41113e294d",
      "metadata": {
        "colab": {
          "base_uri": "https://localhost:8080/"
        },
        "id": "1d8e56e9-1f4e-4931-bd34-3c41113e294d",
        "outputId": "9191cf68-9683-43b5-9c24-0cd62113ac64"
      },
      "outputs": [
        {
          "output_type": "execute_result",
          "data": {
            "text/plain": [
              "{'63cc4501bcf3d54f64dec48d': 'Home and groceries',\n",
              " '63cc6340bcf3d54f64dec4a7': 'Social Life',\n",
              " '63cc6391bcf3d54f64dec4a8': 'Travel',\n",
              " '63cc639bbcf3d54f64dec4a9': 'Rent & Utilities',\n",
              " '63cc63f8bcf3d54f64dec4aa': 'Subscriptions',\n",
              " '63cc6407bcf3d54f64dec4ab': 'Health',\n",
              " '63cc6419bcf3d54f64dec4ac': 'Apparel & Accesories',\n",
              " '63cc6436bcf3d54f64dec4ad': 'Others'}"
            ]
          },
          "metadata": {},
          "execution_count": 7
        }
      ],
      "source": [
        "categories"
      ]
    },
    {
      "cell_type": "code",
      "execution_count": 8,
      "id": "a243f55c-ff8f-4fc8-8dfa-d8554c7aee11",
      "metadata": {
        "id": "a243f55c-ff8f-4fc8-8dfa-d8554c7aee11"
      },
      "outputs": [],
      "source": [
        "def get_expense_by_cat(expense_dataframe, categories_map, user_id):\n",
        "    expense_dataframe = expense_dataframe[expense_dataframe[\"user_id\"] == user_id]\n",
        "    expenditures = {}\n",
        "    for category in categories_map:\n",
        "        cat_values = expense_dataframe[expense_dataframe[\"category_id\"] == category]\n",
        "        cat_expenditure = cat_values[\"amount\"].sum()\n",
        "        expenditures[category] = { \"total\": cat_expenditure, \"category_dframe\": cat_values }\n",
        "    return expenditures"
      ]
    },
    {
      "cell_type": "code",
      "execution_count": 9,
      "id": "6cdad287-181f-4c70-b005-66dbb787c1c1",
      "metadata": {
        "id": "6cdad287-181f-4c70-b005-66dbb787c1c1"
      },
      "outputs": [],
      "source": [
        "def get_categorized_expenses_per_user(expense_dataframe, categories_map):\n",
        "    user_maps = {}\n",
        "    for user_id in expense_dataframe[\"user_id\"].unique():\n",
        "        user_maps[user_id] = get_expense_by_cat(expense_dataframe, categories_map, user_id)\n",
        "    return user_maps"
      ]
    },
    {
      "cell_type": "code",
      "execution_count": 10,
      "id": "53ff0b25-63be-4b5e-9e87-91ac5441edcc",
      "metadata": {
        "id": "53ff0b25-63be-4b5e-9e87-91ac5441edcc"
      },
      "outputs": [],
      "source": [
        "user_maps = get_categorized_expenses_per_user(dataset, categories)"
      ]
    },
    {
      "cell_type": "code",
      "execution_count": 11,
      "id": "b7bd9261-35c7-4d3d-9bc2-71b61efcbc37",
      "metadata": {
        "colab": {
          "base_uri": "https://localhost:8080/",
          "height": 542
        },
        "id": "b7bd9261-35c7-4d3d-9bc2-71b61efcbc37",
        "outputId": "c67e4c67-acd7-4de2-aeae-a589d6a354bb"
      },
      "outputs": [
        {
          "output_type": "display_data",
          "data": {
            "text/html": [
              "<html>\n",
              "<head><meta charset=\"utf-8\" /></head>\n",
              "<body>\n",
              "    <div>            <script src=\"https://cdnjs.cloudflare.com/ajax/libs/mathjax/2.7.5/MathJax.js?config=TeX-AMS-MML_SVG\"></script><script type=\"text/javascript\">if (window.MathJax) {MathJax.Hub.Config({SVG: {font: \"STIX-Web\"}});}</script>                <script type=\"text/javascript\">window.PlotlyConfig = {MathJaxConfig: 'local'};</script>\n",
              "        <script src=\"https://cdn.plot.ly/plotly-2.8.3.min.js\"></script>                <div id=\"2da3df3b-5265-4421-bc39-0d716ecbef6b\" class=\"plotly-graph-div\" style=\"height:525px; width:100%;\"></div>            <script type=\"text/javascript\">                                    window.PLOTLYENV=window.PLOTLYENV || {};                                    if (document.getElementById(\"2da3df3b-5265-4421-bc39-0d716ecbef6b\")) {                    Plotly.newPlot(                        \"2da3df3b-5265-4421-bc39-0d716ecbef6b\",                        [{\"fill\":\"toself\",\"name\":\"Product A\",\"r\":[1,5,2,2,3],\"theta\":[\"processing cost\",\"mechanical properties\",\"chemical stability\",\"thermal stability\",\"device integration\"],\"type\":\"scatterpolar\"},{\"fill\":\"toself\",\"name\":\"Product B\",\"r\":[4,3,2.5,1,2],\"theta\":[\"processing cost\",\"mechanical properties\",\"chemical stability\",\"thermal stability\",\"device integration\"],\"type\":\"scatterpolar\"}],                        {\"template\":{\"data\":{\"bar\":[{\"error_x\":{\"color\":\"#2a3f5f\"},\"error_y\":{\"color\":\"#2a3f5f\"},\"marker\":{\"line\":{\"color\":\"#E5ECF6\",\"width\":0.5},\"pattern\":{\"fillmode\":\"overlay\",\"size\":10,\"solidity\":0.2}},\"type\":\"bar\"}],\"barpolar\":[{\"marker\":{\"line\":{\"color\":\"#E5ECF6\",\"width\":0.5},\"pattern\":{\"fillmode\":\"overlay\",\"size\":10,\"solidity\":0.2}},\"type\":\"barpolar\"}],\"carpet\":[{\"aaxis\":{\"endlinecolor\":\"#2a3f5f\",\"gridcolor\":\"white\",\"linecolor\":\"white\",\"minorgridcolor\":\"white\",\"startlinecolor\":\"#2a3f5f\"},\"baxis\":{\"endlinecolor\":\"#2a3f5f\",\"gridcolor\":\"white\",\"linecolor\":\"white\",\"minorgridcolor\":\"white\",\"startlinecolor\":\"#2a3f5f\"},\"type\":\"carpet\"}],\"choropleth\":[{\"colorbar\":{\"outlinewidth\":0,\"ticks\":\"\"},\"type\":\"choropleth\"}],\"contour\":[{\"colorbar\":{\"outlinewidth\":0,\"ticks\":\"\"},\"colorscale\":[[0.0,\"#0d0887\"],[0.1111111111111111,\"#46039f\"],[0.2222222222222222,\"#7201a8\"],[0.3333333333333333,\"#9c179e\"],[0.4444444444444444,\"#bd3786\"],[0.5555555555555556,\"#d8576b\"],[0.6666666666666666,\"#ed7953\"],[0.7777777777777778,\"#fb9f3a\"],[0.8888888888888888,\"#fdca26\"],[1.0,\"#f0f921\"]],\"type\":\"contour\"}],\"contourcarpet\":[{\"colorbar\":{\"outlinewidth\":0,\"ticks\":\"\"},\"type\":\"contourcarpet\"}],\"heatmap\":[{\"colorbar\":{\"outlinewidth\":0,\"ticks\":\"\"},\"colorscale\":[[0.0,\"#0d0887\"],[0.1111111111111111,\"#46039f\"],[0.2222222222222222,\"#7201a8\"],[0.3333333333333333,\"#9c179e\"],[0.4444444444444444,\"#bd3786\"],[0.5555555555555556,\"#d8576b\"],[0.6666666666666666,\"#ed7953\"],[0.7777777777777778,\"#fb9f3a\"],[0.8888888888888888,\"#fdca26\"],[1.0,\"#f0f921\"]],\"type\":\"heatmap\"}],\"heatmapgl\":[{\"colorbar\":{\"outlinewidth\":0,\"ticks\":\"\"},\"colorscale\":[[0.0,\"#0d0887\"],[0.1111111111111111,\"#46039f\"],[0.2222222222222222,\"#7201a8\"],[0.3333333333333333,\"#9c179e\"],[0.4444444444444444,\"#bd3786\"],[0.5555555555555556,\"#d8576b\"],[0.6666666666666666,\"#ed7953\"],[0.7777777777777778,\"#fb9f3a\"],[0.8888888888888888,\"#fdca26\"],[1.0,\"#f0f921\"]],\"type\":\"heatmapgl\"}],\"histogram\":[{\"marker\":{\"pattern\":{\"fillmode\":\"overlay\",\"size\":10,\"solidity\":0.2}},\"type\":\"histogram\"}],\"histogram2d\":[{\"colorbar\":{\"outlinewidth\":0,\"ticks\":\"\"},\"colorscale\":[[0.0,\"#0d0887\"],[0.1111111111111111,\"#46039f\"],[0.2222222222222222,\"#7201a8\"],[0.3333333333333333,\"#9c179e\"],[0.4444444444444444,\"#bd3786\"],[0.5555555555555556,\"#d8576b\"],[0.6666666666666666,\"#ed7953\"],[0.7777777777777778,\"#fb9f3a\"],[0.8888888888888888,\"#fdca26\"],[1.0,\"#f0f921\"]],\"type\":\"histogram2d\"}],\"histogram2dcontour\":[{\"colorbar\":{\"outlinewidth\":0,\"ticks\":\"\"},\"colorscale\":[[0.0,\"#0d0887\"],[0.1111111111111111,\"#46039f\"],[0.2222222222222222,\"#7201a8\"],[0.3333333333333333,\"#9c179e\"],[0.4444444444444444,\"#bd3786\"],[0.5555555555555556,\"#d8576b\"],[0.6666666666666666,\"#ed7953\"],[0.7777777777777778,\"#fb9f3a\"],[0.8888888888888888,\"#fdca26\"],[1.0,\"#f0f921\"]],\"type\":\"histogram2dcontour\"}],\"mesh3d\":[{\"colorbar\":{\"outlinewidth\":0,\"ticks\":\"\"},\"type\":\"mesh3d\"}],\"parcoords\":[{\"line\":{\"colorbar\":{\"outlinewidth\":0,\"ticks\":\"\"}},\"type\":\"parcoords\"}],\"pie\":[{\"automargin\":true,\"type\":\"pie\"}],\"scatter\":[{\"marker\":{\"colorbar\":{\"outlinewidth\":0,\"ticks\":\"\"}},\"type\":\"scatter\"}],\"scatter3d\":[{\"line\":{\"colorbar\":{\"outlinewidth\":0,\"ticks\":\"\"}},\"marker\":{\"colorbar\":{\"outlinewidth\":0,\"ticks\":\"\"}},\"type\":\"scatter3d\"}],\"scattercarpet\":[{\"marker\":{\"colorbar\":{\"outlinewidth\":0,\"ticks\":\"\"}},\"type\":\"scattercarpet\"}],\"scattergeo\":[{\"marker\":{\"colorbar\":{\"outlinewidth\":0,\"ticks\":\"\"}},\"type\":\"scattergeo\"}],\"scattergl\":[{\"marker\":{\"colorbar\":{\"outlinewidth\":0,\"ticks\":\"\"}},\"type\":\"scattergl\"}],\"scattermapbox\":[{\"marker\":{\"colorbar\":{\"outlinewidth\":0,\"ticks\":\"\"}},\"type\":\"scattermapbox\"}],\"scatterpolar\":[{\"marker\":{\"colorbar\":{\"outlinewidth\":0,\"ticks\":\"\"}},\"type\":\"scatterpolar\"}],\"scatterpolargl\":[{\"marker\":{\"colorbar\":{\"outlinewidth\":0,\"ticks\":\"\"}},\"type\":\"scatterpolargl\"}],\"scatterternary\":[{\"marker\":{\"colorbar\":{\"outlinewidth\":0,\"ticks\":\"\"}},\"type\":\"scatterternary\"}],\"surface\":[{\"colorbar\":{\"outlinewidth\":0,\"ticks\":\"\"},\"colorscale\":[[0.0,\"#0d0887\"],[0.1111111111111111,\"#46039f\"],[0.2222222222222222,\"#7201a8\"],[0.3333333333333333,\"#9c179e\"],[0.4444444444444444,\"#bd3786\"],[0.5555555555555556,\"#d8576b\"],[0.6666666666666666,\"#ed7953\"],[0.7777777777777778,\"#fb9f3a\"],[0.8888888888888888,\"#fdca26\"],[1.0,\"#f0f921\"]],\"type\":\"surface\"}],\"table\":[{\"cells\":{\"fill\":{\"color\":\"#EBF0F8\"},\"line\":{\"color\":\"white\"}},\"header\":{\"fill\":{\"color\":\"#C8D4E3\"},\"line\":{\"color\":\"white\"}},\"type\":\"table\"}]},\"layout\":{\"annotationdefaults\":{\"arrowcolor\":\"#2a3f5f\",\"arrowhead\":0,\"arrowwidth\":1},\"autotypenumbers\":\"strict\",\"coloraxis\":{\"colorbar\":{\"outlinewidth\":0,\"ticks\":\"\"}},\"colorscale\":{\"diverging\":[[0,\"#8e0152\"],[0.1,\"#c51b7d\"],[0.2,\"#de77ae\"],[0.3,\"#f1b6da\"],[0.4,\"#fde0ef\"],[0.5,\"#f7f7f7\"],[0.6,\"#e6f5d0\"],[0.7,\"#b8e186\"],[0.8,\"#7fbc41\"],[0.9,\"#4d9221\"],[1,\"#276419\"]],\"sequential\":[[0.0,\"#0d0887\"],[0.1111111111111111,\"#46039f\"],[0.2222222222222222,\"#7201a8\"],[0.3333333333333333,\"#9c179e\"],[0.4444444444444444,\"#bd3786\"],[0.5555555555555556,\"#d8576b\"],[0.6666666666666666,\"#ed7953\"],[0.7777777777777778,\"#fb9f3a\"],[0.8888888888888888,\"#fdca26\"],[1.0,\"#f0f921\"]],\"sequentialminus\":[[0.0,\"#0d0887\"],[0.1111111111111111,\"#46039f\"],[0.2222222222222222,\"#7201a8\"],[0.3333333333333333,\"#9c179e\"],[0.4444444444444444,\"#bd3786\"],[0.5555555555555556,\"#d8576b\"],[0.6666666666666666,\"#ed7953\"],[0.7777777777777778,\"#fb9f3a\"],[0.8888888888888888,\"#fdca26\"],[1.0,\"#f0f921\"]]},\"colorway\":[\"#636efa\",\"#EF553B\",\"#00cc96\",\"#ab63fa\",\"#FFA15A\",\"#19d3f3\",\"#FF6692\",\"#B6E880\",\"#FF97FF\",\"#FECB52\"],\"font\":{\"color\":\"#2a3f5f\"},\"geo\":{\"bgcolor\":\"white\",\"lakecolor\":\"white\",\"landcolor\":\"#E5ECF6\",\"showlakes\":true,\"showland\":true,\"subunitcolor\":\"white\"},\"hoverlabel\":{\"align\":\"left\"},\"hovermode\":\"closest\",\"mapbox\":{\"style\":\"light\"},\"paper_bgcolor\":\"white\",\"plot_bgcolor\":\"#E5ECF6\",\"polar\":{\"angularaxis\":{\"gridcolor\":\"white\",\"linecolor\":\"white\",\"ticks\":\"\"},\"bgcolor\":\"#E5ECF6\",\"radialaxis\":{\"gridcolor\":\"white\",\"linecolor\":\"white\",\"ticks\":\"\"}},\"scene\":{\"xaxis\":{\"backgroundcolor\":\"#E5ECF6\",\"gridcolor\":\"white\",\"gridwidth\":2,\"linecolor\":\"white\",\"showbackground\":true,\"ticks\":\"\",\"zerolinecolor\":\"white\"},\"yaxis\":{\"backgroundcolor\":\"#E5ECF6\",\"gridcolor\":\"white\",\"gridwidth\":2,\"linecolor\":\"white\",\"showbackground\":true,\"ticks\":\"\",\"zerolinecolor\":\"white\"},\"zaxis\":{\"backgroundcolor\":\"#E5ECF6\",\"gridcolor\":\"white\",\"gridwidth\":2,\"linecolor\":\"white\",\"showbackground\":true,\"ticks\":\"\",\"zerolinecolor\":\"white\"}},\"shapedefaults\":{\"line\":{\"color\":\"#2a3f5f\"}},\"ternary\":{\"aaxis\":{\"gridcolor\":\"white\",\"linecolor\":\"white\",\"ticks\":\"\"},\"baxis\":{\"gridcolor\":\"white\",\"linecolor\":\"white\",\"ticks\":\"\"},\"bgcolor\":\"#E5ECF6\",\"caxis\":{\"gridcolor\":\"white\",\"linecolor\":\"white\",\"ticks\":\"\"}},\"title\":{\"x\":0.05},\"xaxis\":{\"automargin\":true,\"gridcolor\":\"white\",\"linecolor\":\"white\",\"ticks\":\"\",\"title\":{\"standoff\":15},\"zerolinecolor\":\"white\",\"zerolinewidth\":2},\"yaxis\":{\"automargin\":true,\"gridcolor\":\"white\",\"linecolor\":\"white\",\"ticks\":\"\",\"title\":{\"standoff\":15},\"zerolinecolor\":\"white\",\"zerolinewidth\":2}}},\"polar\":{\"radialaxis\":{\"visible\":true,\"range\":[0,5]}},\"showlegend\":false},                        {\"responsive\": true}                    ).then(function(){\n",
              "                            \n",
              "var gd = document.getElementById('2da3df3b-5265-4421-bc39-0d716ecbef6b');\n",
              "var x = new MutationObserver(function (mutations, observer) {{\n",
              "        var display = window.getComputedStyle(gd).display;\n",
              "        if (!display || display === 'none') {{\n",
              "            console.log([gd, 'removed!']);\n",
              "            Plotly.purge(gd);\n",
              "            observer.disconnect();\n",
              "        }}\n",
              "}});\n",
              "\n",
              "// Listen for the removal of the full notebook cells\n",
              "var notebookContainer = gd.closest('#notebook-container');\n",
              "if (notebookContainer) {{\n",
              "    x.observe(notebookContainer, {childList: true});\n",
              "}}\n",
              "\n",
              "// Listen for the clearing of the current output cell\n",
              "var outputEl = gd.closest('.output');\n",
              "if (outputEl) {{\n",
              "    x.observe(outputEl, {childList: true});\n",
              "}}\n",
              "\n",
              "                        })                };                            </script>        </div>\n",
              "</body>\n",
              "</html>"
            ]
          },
          "metadata": {}
        }
      ],
      "source": [
        "import plotly.graph_objects as go\n",
        "\n",
        "categories = ['processing cost','mechanical properties','chemical stability',\n",
        "              'thermal stability', 'device integration']\n",
        "\n",
        "fig = go.Figure()\n",
        "\n",
        "fig.add_trace(go.Scatterpolar(\n",
        "      r=[1, 5, 2, 2, 3],\n",
        "      theta=categories,\n",
        "      fill='toself',\n",
        "      name='Product A'\n",
        "))\n",
        "fig.add_trace(go.Scatterpolar(\n",
        "      r=[4, 3, 2.5, 1, 2],\n",
        "      theta=categories,\n",
        "      fill='toself',\n",
        "      name='Product B'\n",
        "))\n",
        "\n",
        "fig.update_layout(\n",
        "  polar=dict(\n",
        "    radialaxis=dict(\n",
        "      visible=True,\n",
        "      range=[0, 5]\n",
        "    )),\n",
        "  showlegend=False\n",
        ")\n",
        "\n",
        "fig.show()"
      ]
    },
    {
      "cell_type": "code",
      "execution_count": 12,
      "id": "79253987-3b5e-492f-8fc0-02cf104a8476",
      "metadata": {
        "id": "79253987-3b5e-492f-8fc0-02cf104a8476"
      },
      "outputs": [],
      "source": [
        "def get_categorical_analysis(user_maps, categories_map, user_id):\n",
        "    user_spendings = user_maps.get(user_id)\n",
        "    # Generates a pie chart with spendings on categories\n",
        "    labels = list(categories_map.values())\n",
        "    data = [user_spendings[expense].get(\"total\") for expense in user_spendings]\n",
        "    figure = go.Figure()\n",
        "    figure.add_trace(\n",
        "        go.Pie(\n",
        "            sort=False,\n",
        "            direction='clockwise',\n",
        "            labels=labels,\n",
        "            values=data,\n",
        "            textinfo='label',\n",
        "            marker={'line': {'color': 'white', 'width': 1}}\n",
        "        )\n",
        "    )\n",
        "    figure.show()"
      ]
    },
    {
      "cell_type": "code",
      "execution_count": 13,
      "id": "f553b3a1-d5c1-492b-80e0-dbec54d8253d",
      "metadata": {
        "colab": {
          "base_uri": "https://localhost:8080/",
          "height": 298
        },
        "id": "f553b3a1-d5c1-492b-80e0-dbec54d8253d",
        "outputId": "c8869915-38cd-4975-c385-0a38ca93b53b"
      },
      "outputs": [
        {
          "output_type": "error",
          "ename": "AttributeError",
          "evalue": "ignored",
          "traceback": [
            "\u001b[0;31m---------------------------------------------------------------------------\u001b[0m",
            "\u001b[0;31mAttributeError\u001b[0m                            Traceback (most recent call last)",
            "\u001b[0;32m<ipython-input-13-7d81884f8414>\u001b[0m in \u001b[0;36m<module>\u001b[0;34m\u001b[0m\n\u001b[0;32m----> 1\u001b[0;31m \u001b[0mget_categorical_analysis\u001b[0m\u001b[0;34m(\u001b[0m\u001b[0muser_maps\u001b[0m\u001b[0;34m,\u001b[0m \u001b[0mcategories\u001b[0m\u001b[0;34m,\u001b[0m \u001b[0;34m\"63cc5580bcf3d54f64dec4a5\"\u001b[0m\u001b[0;34m)\u001b[0m\u001b[0;34m\u001b[0m\u001b[0;34m\u001b[0m\u001b[0m\n\u001b[0m",
            "\u001b[0;32m<ipython-input-12-3ed1cb0ee598>\u001b[0m in \u001b[0;36mget_categorical_analysis\u001b[0;34m(user_maps, categories_map, user_id)\u001b[0m\n\u001b[1;32m      2\u001b[0m     \u001b[0muser_spendings\u001b[0m \u001b[0;34m=\u001b[0m \u001b[0muser_maps\u001b[0m\u001b[0;34m.\u001b[0m\u001b[0mget\u001b[0m\u001b[0;34m(\u001b[0m\u001b[0muser_id\u001b[0m\u001b[0;34m)\u001b[0m\u001b[0;34m\u001b[0m\u001b[0;34m\u001b[0m\u001b[0m\n\u001b[1;32m      3\u001b[0m     \u001b[0;31m# Generates a pie chart with spendings on categories\u001b[0m\u001b[0;34m\u001b[0m\u001b[0;34m\u001b[0m\u001b[0;34m\u001b[0m\u001b[0m\n\u001b[0;32m----> 4\u001b[0;31m     \u001b[0mlabels\u001b[0m \u001b[0;34m=\u001b[0m \u001b[0mlist\u001b[0m\u001b[0;34m(\u001b[0m\u001b[0mcategories_map\u001b[0m\u001b[0;34m.\u001b[0m\u001b[0mvalues\u001b[0m\u001b[0;34m(\u001b[0m\u001b[0;34m)\u001b[0m\u001b[0;34m)\u001b[0m\u001b[0;34m\u001b[0m\u001b[0;34m\u001b[0m\u001b[0m\n\u001b[0m\u001b[1;32m      5\u001b[0m     \u001b[0mdata\u001b[0m \u001b[0;34m=\u001b[0m \u001b[0;34m[\u001b[0m\u001b[0muser_spendings\u001b[0m\u001b[0;34m[\u001b[0m\u001b[0mexpense\u001b[0m\u001b[0;34m]\u001b[0m\u001b[0;34m.\u001b[0m\u001b[0mget\u001b[0m\u001b[0;34m(\u001b[0m\u001b[0;34m\"total\"\u001b[0m\u001b[0;34m)\u001b[0m \u001b[0;32mfor\u001b[0m \u001b[0mexpense\u001b[0m \u001b[0;32min\u001b[0m \u001b[0muser_spendings\u001b[0m\u001b[0;34m]\u001b[0m\u001b[0;34m\u001b[0m\u001b[0;34m\u001b[0m\u001b[0m\n\u001b[1;32m      6\u001b[0m     \u001b[0mfigure\u001b[0m \u001b[0;34m=\u001b[0m \u001b[0mgo\u001b[0m\u001b[0;34m.\u001b[0m\u001b[0mFigure\u001b[0m\u001b[0;34m(\u001b[0m\u001b[0;34m)\u001b[0m\u001b[0;34m\u001b[0m\u001b[0;34m\u001b[0m\u001b[0m\n",
            "\u001b[0;31mAttributeError\u001b[0m: 'list' object has no attribute 'values'"
          ]
        }
      ],
      "source": [
        "get_categorical_analysis(user_maps, categories, \"63cc5580bcf3d54f64dec4a5\")"
      ]
    },
    {
      "cell_type": "code",
      "execution_count": 14,
      "id": "03483acc-b1ec-4796-a09e-032bab1eb7ac",
      "metadata": {
        "id": "03483acc-b1ec-4796-a09e-032bab1eb7ac"
      },
      "outputs": [],
      "source": [
        "def get_analysis_per_cat(user_maps, categories, user_id, category_id):\n",
        "    data_by_cat = user_maps.get(user_id).get(category_id).get(\"category_dframe\")\n",
        "    labels = data_by_cat[\"note\"].unique()\n",
        "    sub_cat_data = {}\n",
        "    for label in labels:\n",
        "        sub_cat_data[label] = data_by_cat[data_by_cat[\"note\"] == label][\"amount\"].sum()\n",
        "    print(sub_cat_data)\n",
        "    print([sub_cat_data.get(label) for label in labels])\n",
        "    fig = go.Figure()\n",
        "    fig.add_trace(go.Scatterpolar(\n",
        "          r=[sub_cat_data.get(label) for label in labels],\n",
        "          theta=labels,\n",
        "          fill='toself',\n",
        "          name=f'User id {user_id}'\n",
        "    ))\n",
        "    fig.show()"
      ]
    },
    {
      "cell_type": "code",
      "execution_count": 15,
      "id": "ef11db07-e173-44a7-9a9f-e544230e91d6",
      "metadata": {
        "colab": {
          "base_uri": "https://localhost:8080/",
          "height": 598
        },
        "id": "ef11db07-e173-44a7-9a9f-e544230e91d6",
        "outputId": "8329ad99-0af3-4dcf-a7a7-8ad242bf7d67"
      },
      "outputs": [
        {
          "output_type": "stream",
          "name": "stdout",
          "text": [
            "{'Tim Hortons': 37.08, 'Burgundy Lion': 50.0, 'Ice Hotel': 70.0, 'SAQ': 35.0, 'Beers': 8.4, 'Whisky': 57.0, 'Subway': 6.3, 'Pizza': 8.0, 'Restaurant': 36.0, 'Ice Skating': 10.0}\n",
            "[37.08, 50.0, 70.0, 35.0, 8.4, 57.0, 6.3, 8.0, 36.0, 10.0]\n"
          ]
        },
        {
          "output_type": "display_data",
          "data": {
            "text/html": [
              "<html>\n",
              "<head><meta charset=\"utf-8\" /></head>\n",
              "<body>\n",
              "    <div>            <script src=\"https://cdnjs.cloudflare.com/ajax/libs/mathjax/2.7.5/MathJax.js?config=TeX-AMS-MML_SVG\"></script><script type=\"text/javascript\">if (window.MathJax) {MathJax.Hub.Config({SVG: {font: \"STIX-Web\"}});}</script>                <script type=\"text/javascript\">window.PlotlyConfig = {MathJaxConfig: 'local'};</script>\n",
              "        <script src=\"https://cdn.plot.ly/plotly-2.8.3.min.js\"></script>                <div id=\"d8050f86-05dd-41fd-8ce3-950d144dbe86\" class=\"plotly-graph-div\" style=\"height:525px; width:100%;\"></div>            <script type=\"text/javascript\">                                    window.PLOTLYENV=window.PLOTLYENV || {};                                    if (document.getElementById(\"d8050f86-05dd-41fd-8ce3-950d144dbe86\")) {                    Plotly.newPlot(                        \"d8050f86-05dd-41fd-8ce3-950d144dbe86\",                        [{\"fill\":\"toself\",\"name\":\"User id 63cc5580bcf3d54f64dec4a5\",\"r\":[37.08,50.0,70.0,35.0,8.4,57.0,6.3,8.0,36.0,10.0],\"theta\":[\"Tim Hortons\",\"Burgundy Lion\",\"Ice Hotel\",\"SAQ\",\"Beers\",\"Whisky\",\"Subway\",\"Pizza\",\"Restaurant\",\"Ice Skating\"],\"type\":\"scatterpolar\"}],                        {\"template\":{\"data\":{\"bar\":[{\"error_x\":{\"color\":\"#2a3f5f\"},\"error_y\":{\"color\":\"#2a3f5f\"},\"marker\":{\"line\":{\"color\":\"#E5ECF6\",\"width\":0.5},\"pattern\":{\"fillmode\":\"overlay\",\"size\":10,\"solidity\":0.2}},\"type\":\"bar\"}],\"barpolar\":[{\"marker\":{\"line\":{\"color\":\"#E5ECF6\",\"width\":0.5},\"pattern\":{\"fillmode\":\"overlay\",\"size\":10,\"solidity\":0.2}},\"type\":\"barpolar\"}],\"carpet\":[{\"aaxis\":{\"endlinecolor\":\"#2a3f5f\",\"gridcolor\":\"white\",\"linecolor\":\"white\",\"minorgridcolor\":\"white\",\"startlinecolor\":\"#2a3f5f\"},\"baxis\":{\"endlinecolor\":\"#2a3f5f\",\"gridcolor\":\"white\",\"linecolor\":\"white\",\"minorgridcolor\":\"white\",\"startlinecolor\":\"#2a3f5f\"},\"type\":\"carpet\"}],\"choropleth\":[{\"colorbar\":{\"outlinewidth\":0,\"ticks\":\"\"},\"type\":\"choropleth\"}],\"contour\":[{\"colorbar\":{\"outlinewidth\":0,\"ticks\":\"\"},\"colorscale\":[[0.0,\"#0d0887\"],[0.1111111111111111,\"#46039f\"],[0.2222222222222222,\"#7201a8\"],[0.3333333333333333,\"#9c179e\"],[0.4444444444444444,\"#bd3786\"],[0.5555555555555556,\"#d8576b\"],[0.6666666666666666,\"#ed7953\"],[0.7777777777777778,\"#fb9f3a\"],[0.8888888888888888,\"#fdca26\"],[1.0,\"#f0f921\"]],\"type\":\"contour\"}],\"contourcarpet\":[{\"colorbar\":{\"outlinewidth\":0,\"ticks\":\"\"},\"type\":\"contourcarpet\"}],\"heatmap\":[{\"colorbar\":{\"outlinewidth\":0,\"ticks\":\"\"},\"colorscale\":[[0.0,\"#0d0887\"],[0.1111111111111111,\"#46039f\"],[0.2222222222222222,\"#7201a8\"],[0.3333333333333333,\"#9c179e\"],[0.4444444444444444,\"#bd3786\"],[0.5555555555555556,\"#d8576b\"],[0.6666666666666666,\"#ed7953\"],[0.7777777777777778,\"#fb9f3a\"],[0.8888888888888888,\"#fdca26\"],[1.0,\"#f0f921\"]],\"type\":\"heatmap\"}],\"heatmapgl\":[{\"colorbar\":{\"outlinewidth\":0,\"ticks\":\"\"},\"colorscale\":[[0.0,\"#0d0887\"],[0.1111111111111111,\"#46039f\"],[0.2222222222222222,\"#7201a8\"],[0.3333333333333333,\"#9c179e\"],[0.4444444444444444,\"#bd3786\"],[0.5555555555555556,\"#d8576b\"],[0.6666666666666666,\"#ed7953\"],[0.7777777777777778,\"#fb9f3a\"],[0.8888888888888888,\"#fdca26\"],[1.0,\"#f0f921\"]],\"type\":\"heatmapgl\"}],\"histogram\":[{\"marker\":{\"pattern\":{\"fillmode\":\"overlay\",\"size\":10,\"solidity\":0.2}},\"type\":\"histogram\"}],\"histogram2d\":[{\"colorbar\":{\"outlinewidth\":0,\"ticks\":\"\"},\"colorscale\":[[0.0,\"#0d0887\"],[0.1111111111111111,\"#46039f\"],[0.2222222222222222,\"#7201a8\"],[0.3333333333333333,\"#9c179e\"],[0.4444444444444444,\"#bd3786\"],[0.5555555555555556,\"#d8576b\"],[0.6666666666666666,\"#ed7953\"],[0.7777777777777778,\"#fb9f3a\"],[0.8888888888888888,\"#fdca26\"],[1.0,\"#f0f921\"]],\"type\":\"histogram2d\"}],\"histogram2dcontour\":[{\"colorbar\":{\"outlinewidth\":0,\"ticks\":\"\"},\"colorscale\":[[0.0,\"#0d0887\"],[0.1111111111111111,\"#46039f\"],[0.2222222222222222,\"#7201a8\"],[0.3333333333333333,\"#9c179e\"],[0.4444444444444444,\"#bd3786\"],[0.5555555555555556,\"#d8576b\"],[0.6666666666666666,\"#ed7953\"],[0.7777777777777778,\"#fb9f3a\"],[0.8888888888888888,\"#fdca26\"],[1.0,\"#f0f921\"]],\"type\":\"histogram2dcontour\"}],\"mesh3d\":[{\"colorbar\":{\"outlinewidth\":0,\"ticks\":\"\"},\"type\":\"mesh3d\"}],\"parcoords\":[{\"line\":{\"colorbar\":{\"outlinewidth\":0,\"ticks\":\"\"}},\"type\":\"parcoords\"}],\"pie\":[{\"automargin\":true,\"type\":\"pie\"}],\"scatter\":[{\"marker\":{\"colorbar\":{\"outlinewidth\":0,\"ticks\":\"\"}},\"type\":\"scatter\"}],\"scatter3d\":[{\"line\":{\"colorbar\":{\"outlinewidth\":0,\"ticks\":\"\"}},\"marker\":{\"colorbar\":{\"outlinewidth\":0,\"ticks\":\"\"}},\"type\":\"scatter3d\"}],\"scattercarpet\":[{\"marker\":{\"colorbar\":{\"outlinewidth\":0,\"ticks\":\"\"}},\"type\":\"scattercarpet\"}],\"scattergeo\":[{\"marker\":{\"colorbar\":{\"outlinewidth\":0,\"ticks\":\"\"}},\"type\":\"scattergeo\"}],\"scattergl\":[{\"marker\":{\"colorbar\":{\"outlinewidth\":0,\"ticks\":\"\"}},\"type\":\"scattergl\"}],\"scattermapbox\":[{\"marker\":{\"colorbar\":{\"outlinewidth\":0,\"ticks\":\"\"}},\"type\":\"scattermapbox\"}],\"scatterpolar\":[{\"marker\":{\"colorbar\":{\"outlinewidth\":0,\"ticks\":\"\"}},\"type\":\"scatterpolar\"}],\"scatterpolargl\":[{\"marker\":{\"colorbar\":{\"outlinewidth\":0,\"ticks\":\"\"}},\"type\":\"scatterpolargl\"}],\"scatterternary\":[{\"marker\":{\"colorbar\":{\"outlinewidth\":0,\"ticks\":\"\"}},\"type\":\"scatterternary\"}],\"surface\":[{\"colorbar\":{\"outlinewidth\":0,\"ticks\":\"\"},\"colorscale\":[[0.0,\"#0d0887\"],[0.1111111111111111,\"#46039f\"],[0.2222222222222222,\"#7201a8\"],[0.3333333333333333,\"#9c179e\"],[0.4444444444444444,\"#bd3786\"],[0.5555555555555556,\"#d8576b\"],[0.6666666666666666,\"#ed7953\"],[0.7777777777777778,\"#fb9f3a\"],[0.8888888888888888,\"#fdca26\"],[1.0,\"#f0f921\"]],\"type\":\"surface\"}],\"table\":[{\"cells\":{\"fill\":{\"color\":\"#EBF0F8\"},\"line\":{\"color\":\"white\"}},\"header\":{\"fill\":{\"color\":\"#C8D4E3\"},\"line\":{\"color\":\"white\"}},\"type\":\"table\"}]},\"layout\":{\"annotationdefaults\":{\"arrowcolor\":\"#2a3f5f\",\"arrowhead\":0,\"arrowwidth\":1},\"autotypenumbers\":\"strict\",\"coloraxis\":{\"colorbar\":{\"outlinewidth\":0,\"ticks\":\"\"}},\"colorscale\":{\"diverging\":[[0,\"#8e0152\"],[0.1,\"#c51b7d\"],[0.2,\"#de77ae\"],[0.3,\"#f1b6da\"],[0.4,\"#fde0ef\"],[0.5,\"#f7f7f7\"],[0.6,\"#e6f5d0\"],[0.7,\"#b8e186\"],[0.8,\"#7fbc41\"],[0.9,\"#4d9221\"],[1,\"#276419\"]],\"sequential\":[[0.0,\"#0d0887\"],[0.1111111111111111,\"#46039f\"],[0.2222222222222222,\"#7201a8\"],[0.3333333333333333,\"#9c179e\"],[0.4444444444444444,\"#bd3786\"],[0.5555555555555556,\"#d8576b\"],[0.6666666666666666,\"#ed7953\"],[0.7777777777777778,\"#fb9f3a\"],[0.8888888888888888,\"#fdca26\"],[1.0,\"#f0f921\"]],\"sequentialminus\":[[0.0,\"#0d0887\"],[0.1111111111111111,\"#46039f\"],[0.2222222222222222,\"#7201a8\"],[0.3333333333333333,\"#9c179e\"],[0.4444444444444444,\"#bd3786\"],[0.5555555555555556,\"#d8576b\"],[0.6666666666666666,\"#ed7953\"],[0.7777777777777778,\"#fb9f3a\"],[0.8888888888888888,\"#fdca26\"],[1.0,\"#f0f921\"]]},\"colorway\":[\"#636efa\",\"#EF553B\",\"#00cc96\",\"#ab63fa\",\"#FFA15A\",\"#19d3f3\",\"#FF6692\",\"#B6E880\",\"#FF97FF\",\"#FECB52\"],\"font\":{\"color\":\"#2a3f5f\"},\"geo\":{\"bgcolor\":\"white\",\"lakecolor\":\"white\",\"landcolor\":\"#E5ECF6\",\"showlakes\":true,\"showland\":true,\"subunitcolor\":\"white\"},\"hoverlabel\":{\"align\":\"left\"},\"hovermode\":\"closest\",\"mapbox\":{\"style\":\"light\"},\"paper_bgcolor\":\"white\",\"plot_bgcolor\":\"#E5ECF6\",\"polar\":{\"angularaxis\":{\"gridcolor\":\"white\",\"linecolor\":\"white\",\"ticks\":\"\"},\"bgcolor\":\"#E5ECF6\",\"radialaxis\":{\"gridcolor\":\"white\",\"linecolor\":\"white\",\"ticks\":\"\"}},\"scene\":{\"xaxis\":{\"backgroundcolor\":\"#E5ECF6\",\"gridcolor\":\"white\",\"gridwidth\":2,\"linecolor\":\"white\",\"showbackground\":true,\"ticks\":\"\",\"zerolinecolor\":\"white\"},\"yaxis\":{\"backgroundcolor\":\"#E5ECF6\",\"gridcolor\":\"white\",\"gridwidth\":2,\"linecolor\":\"white\",\"showbackground\":true,\"ticks\":\"\",\"zerolinecolor\":\"white\"},\"zaxis\":{\"backgroundcolor\":\"#E5ECF6\",\"gridcolor\":\"white\",\"gridwidth\":2,\"linecolor\":\"white\",\"showbackground\":true,\"ticks\":\"\",\"zerolinecolor\":\"white\"}},\"shapedefaults\":{\"line\":{\"color\":\"#2a3f5f\"}},\"ternary\":{\"aaxis\":{\"gridcolor\":\"white\",\"linecolor\":\"white\",\"ticks\":\"\"},\"baxis\":{\"gridcolor\":\"white\",\"linecolor\":\"white\",\"ticks\":\"\"},\"bgcolor\":\"#E5ECF6\",\"caxis\":{\"gridcolor\":\"white\",\"linecolor\":\"white\",\"ticks\":\"\"}},\"title\":{\"x\":0.05},\"xaxis\":{\"automargin\":true,\"gridcolor\":\"white\",\"linecolor\":\"white\",\"ticks\":\"\",\"title\":{\"standoff\":15},\"zerolinecolor\":\"white\",\"zerolinewidth\":2},\"yaxis\":{\"automargin\":true,\"gridcolor\":\"white\",\"linecolor\":\"white\",\"ticks\":\"\",\"title\":{\"standoff\":15},\"zerolinecolor\":\"white\",\"zerolinewidth\":2}}}},                        {\"responsive\": true}                    ).then(function(){\n",
              "                            \n",
              "var gd = document.getElementById('d8050f86-05dd-41fd-8ce3-950d144dbe86');\n",
              "var x = new MutationObserver(function (mutations, observer) {{\n",
              "        var display = window.getComputedStyle(gd).display;\n",
              "        if (!display || display === 'none') {{\n",
              "            console.log([gd, 'removed!']);\n",
              "            Plotly.purge(gd);\n",
              "            observer.disconnect();\n",
              "        }}\n",
              "}});\n",
              "\n",
              "// Listen for the removal of the full notebook cells\n",
              "var notebookContainer = gd.closest('#notebook-container');\n",
              "if (notebookContainer) {{\n",
              "    x.observe(notebookContainer, {childList: true});\n",
              "}}\n",
              "\n",
              "// Listen for the clearing of the current output cell\n",
              "var outputEl = gd.closest('.output');\n",
              "if (outputEl) {{\n",
              "    x.observe(outputEl, {childList: true});\n",
              "}}\n",
              "\n",
              "                        })                };                            </script>        </div>\n",
              "</body>\n",
              "</html>"
            ]
          },
          "metadata": {}
        }
      ],
      "source": [
        "get_analysis_per_cat(user_maps, categories, \"63cc5580bcf3d54f64dec4a5\", \"63cc6340bcf3d54f64dec4a7\")"
      ]
    },
    {
      "cell_type": "code",
      "execution_count": 15,
      "id": "1b778abb-001c-46b5-9edb-17e2b158435e",
      "metadata": {
        "id": "1b778abb-001c-46b5-9edb-17e2b158435e"
      },
      "outputs": [],
      "source": []
    }
  ],
  "metadata": {
    "kernelspec": {
      "display_name": "Python 3 (ipykernel)",
      "language": "python",
      "name": "python3"
    },
    "language_info": {
      "codemirror_mode": {
        "name": "ipython",
        "version": 3
      },
      "file_extension": ".py",
      "mimetype": "text/x-python",
      "name": "python",
      "nbconvert_exporter": "python",
      "pygments_lexer": "ipython3",
      "version": "3.8.10"
    },
    "colab": {
      "provenance": []
    }
  },
  "nbformat": 4,
  "nbformat_minor": 5
}